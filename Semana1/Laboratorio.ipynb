{
 "cells": [
  {
   "cell_type": "markdown",
   "metadata": {},
   "source": [
    "¿Cual es la funcion de la memoria secundaria en una computadora?\n",
    "\n",
    "a) Ejecutar todos los calculos y la logica del programa.\n",
    "\n",
    "b) Descargar paginas web de Internet.\n",
    "\n",
    "c) Almacenar informacion durante mucho tiempo, incluso despues de ciclos de apagado y encendido.\n",
    "\n",
    "d) Recolectar la entrada del usuario"
   ]
  },
  {
   "cell_type": "code",
   "execution_count": null,
   "metadata": {
    "vscode": {
     "languageId": "plaintext"
    }
   },
   "outputs": [],
   "source": [
    "#RESPUESTA 1 \n",
    "print (\"C: Almacena informacion durante mucho tiempo, incluso despues de ciclos de apagado y encendido\")"
   ]
  },
  {
   "cell_type": "markdown",
   "metadata": {},
   "source": [
    "¿Que es un programa?\n",
    "\n"
   ]
  },
  {
   "cell_type": "code",
   "execution_count": null,
   "metadata": {
    "vscode": {
     "languageId": "plaintext"
    }
   },
   "outputs": [],
   "source": [
    "#RESPUESTA 2\n",
    "print (\"Secuencia de declaraciones diseñadas para hacer algo\")\n"
   ]
  },
  {
   "cell_type": "markdown",
   "metadata": {},
   "source": [
    "¿Cual es la diferencia entre un compilador y un interprete?\n"
   ]
  },
  {
   "cell_type": "code",
   "execution_count": null,
   "metadata": {
    "vscode": {
     "languageId": "plaintext"
    }
   },
   "outputs": [],
   "source": [
    "#RESPUESTA 3\n",
    "print (\"Un interprete mantiene una conversacion interactiva y un compilador necesita que le entreguen el programa completo en un fichero, y luego ejecuta un proceso para traducir el codigo fuente de alto nivel a codigo maquinaria\")"
   ]
  },
  {
   "cell_type": "markdown",
   "metadata": {},
   "source": [
    "¿Cual de los siguientes contiene “codigo maquina”?\n",
    "\n",
    "a) El interprete de Python.\n",
    "\n",
    "b) El teclado.\n",
    "\n",
    "c) El codigo fuente de Python.\n",
    "\n",
    "d) Un documento de un procesador de texto."
   ]
  },
  {
   "cell_type": "code",
   "execution_count": null,
   "metadata": {
    "vscode": {
     "languageId": "plaintext"
    }
   },
   "outputs": [],
   "source": [
    "#RESPUESTA 4\n",
    "print (\"C: El codigo fuente de python\")"
   ]
  },
  {
   "cell_type": "markdown",
   "metadata": {},
   "source": [
    "¿Que esta mal en el siguiente codigo?:\n",
    "\n",
    ">>> primt ’¡Hola, mundo!’\n",
    "\n",
    "File \"<stdin>\", line 1\n",
    "\n",
    "primt ’¡Hola, mundo!’\n",
    "\n",
    "^\n",
    "\n",
    "SyntaxError: invalid syntax\n",
    ">>>"
   ]
  },
  {
   "cell_type": "code",
   "execution_count": null,
   "metadata": {
    "vscode": {
     "languageId": "plaintext"
    }
   },
   "outputs": [],
   "source": [
    "#RESPUESTA 5\n",
    "print (\"Lo que yo veo mal en este codigo es que primt esta mal, se debe escribir print; otra cosa que veo mal es el uso incorrecto de la comilla principal; otro error es que no esta cerrado entre parentecis el mensaje; lo correcto es: print (\"Hola mundo\")\")"
   ]
  },
  {
   "cell_type": "markdown",
   "metadata": {},
   "source": [
    "¿En que lugar del computador queda almacenada una variable, como en este caso “x”, despues de ejecutar la siguiente lınea de Python?:\n",
    "\n",
    "x = 123\n",
    "\n",
    "a) Unidad central de procesamiento.\n",
    "\n",
    "b) Memoria Principal.\n",
    "\n",
    "c) Memoria Secundaria.\n",
    "\n",
    "d) Dispositivos de Entrada.\n",
    "\n",
    "e) Dispositivos de Salida.\n",
    "\n"
   ]
  },
  {
   "cell_type": "code",
   "execution_count": null,
   "metadata": {
    "vscode": {
     "languageId": "plaintext"
    }
   },
   "outputs": [],
   "source": [
    "#RESPUESTA 6\n",
    "print (\"B: Memoria principal\")"
   ]
  },
  {
   "cell_type": "markdown",
   "metadata": {},
   "source": [
    "¿Que mostrara en pantalla el siguiente programa?:\n",
    "\n",
    "x = 43\n",
    "\n",
    "x = x + 1\n",
    "\n",
    "print(x)\n",
    "\n",
    "a) 43.\n",
    "\n",
    "b) 44.\n",
    "\n",
    "c) x + 1.\n",
    "\n",
    "d) Error, porque x = x + 1 no es posible matematicamente."
   ]
  },
  {
   "cell_type": "code",
   "execution_count": null,
   "metadata": {
    "vscode": {
     "languageId": "plaintext"
    }
   },
   "outputs": [],
   "source": [
    "#RESPUESTA 7\n",
    "print (\"B: 44\")"
   ]
  },
  {
   "cell_type": "markdown",
   "metadata": {},
   "source": [
    "Explica cada uno de los siguientes conceptos usando un ejemplo de una capacidad\n",
    "humana:\n",
    "\n",
    "1. Unidad central de procesamiento.\n",
    "2. Memoria principal.\n",
    "\n",
    "3. Memoria secundaria.\n",
    "\n",
    "4. Dispositivos de entrada.\n",
    "\n",
    "5. Dispositivos de salida.\n",
    "\n",
    "Por ejemplo: “¿Cual serıa el equivalente humano de la Unidad central de procesamiento?”.\n"
   ]
  },
  {
   "cell_type": "code",
   "execution_count": null,
   "metadata": {
    "vscode": {
     "languageId": "plaintext"
    }
   },
   "outputs": [],
   "source": [
    "#RESPUESTA 8\n",
    "print (\"1: La cpu es es la que procesa toda la informacion, asi como nuestro cerebro al hacer cualquier cosa como por ejemplo el movimiento diario\")\n",
    "\n",
    "Print (\"2: La memoria principal es como el cpu, solamente que desaparece la informacion almacenada cuando se apaga el equipo; esto seria como la memoria humana a corto plazo, por ejemplo alguna platica con un amigo, despues de un tiempo se empieza a olvidar lo comentado en ese momento\")\n",
    "\n",
    "print (\"3: La memoria secundaria es la contraparte de la principal, ya que si almacena los datos incluso despues de apagarse el equipo; entonces esto funciona como la memoria a largo plazo como por ejemplo el saber de cuantos años tienes\")\n",
    "\n",
    "print (\"4: Los dispositivos de entrada y salida serian como las extremidades del cuerpo humano y sentidos humanos, ya que gracias a nuestras extremidades y sentidos podemos realizar acciones que deseamos, como en este caso un mouse para controlar la computadora\")"
   ]
  },
  {
   "cell_type": "markdown",
   "metadata": {},
   "source": [
    "¿Como puedes corregir un “Error de sintaxis”?\n"
   ]
  },
  {
   "cell_type": "code",
   "execution_count": null,
   "metadata": {
    "vscode": {
     "languageId": "plaintext"
    }
   },
   "outputs": [],
   "source": [
    "#RESPUESTA 9\n",
    "print (\"Verificar que no has violado las reglas gramaticales de python\")"
   ]
  }
 ],
 "metadata": {
  "language_info": {
   "name": "python"
  }
 },
 "nbformat": 4,
 "nbformat_minor": 2
}
